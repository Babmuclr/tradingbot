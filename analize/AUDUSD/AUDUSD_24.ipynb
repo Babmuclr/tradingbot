{
 "cells": [
  {
   "cell_type": "markdown",
   "metadata": {},
   "source": [
    "# 4時間後のAUD/USDの値段を予測する"
   ]
  },
  {
   "cell_type": "code",
   "execution_count": 4,
   "metadata": {},
   "outputs": [],
   "source": [
    "import numpy as np\n",
    "import pandas as pd\n",
    "import matplotlib.pyplot as plt\n",
    "import sys"
   ]
  },
  {
   "cell_type": "code",
   "execution_count": 5,
   "metadata": {},
   "outputs": [],
   "source": [
    "sys.path.append('../')\n",
    "\n",
    "from lib import lib"
   ]
  },
  {
   "cell_type": "code",
   "execution_count": 6,
   "metadata": {},
   "outputs": [],
   "source": [
    "li_currency = [\"USDJPY\",\"EURJPY\",\"EURUSD\",\"GBDJPY\",\"CADJPY\",\"CHFJPY\",\"GBDUSD\",\"USDCHF\",\"SEKJPY\",\"NOKJPY\",\n",
    "\"EURGBP\",\"USDCAD\",\"TRYJPY\",\"ZARJPY\",\"MXNJPY\",\"TRYUSD\",\"EURTRY\",\"RUBJPY\",\"AUDJPY\",\"NZDJPY\",\n",
    "\"AUDUSD\",\"NZDUSD\",\"EURAUD\",\"GBPAUD\",\"AUDCAD\",\"EURNZD\",\"AUDNZD\",\"CNYJPY\",\"HKDJPY\",\"SGDJPY\"]"
   ]
  },
  {
   "cell_type": "code",
   "execution_count": 7,
   "metadata": {},
   "outputs": [],
   "source": [
    "CURRENCY = \"AUDUSD\"\n",
    "PERIOD = 24 # 予測の間隔\n",
    "PERIOD2 = 6 # 変化の間隔\n",
    "PIP = 0.001"
   ]
  },
  {
   "cell_type": "code",
   "execution_count": 8,
   "metadata": {},
   "outputs": [],
   "source": [
    "target, day = lib.makeTarget(CURRENCY)\n",
    "dayweek = list(map(lib.dayweek,day))\n",
    "dayhour = list(map(lib.dayhour,day))"
   ]
  },
  {
   "cell_type": "code",
   "execution_count": 9,
   "metadata": {},
   "outputs": [],
   "source": [
    "data = lib.makeData(li_currency).values\n",
    "diffs = lib.diffData(data,PERIOD2)\n",
    "data = data[PERIOD2:]\n",
    "data = np.concatenate([data,diffs],1)[max(PERIOD-PERIOD2,0):]"
   ]
  },
  {
   "cell_type": "code",
   "execution_count": 10,
   "metadata": {},
   "outputs": [],
   "source": [
    "target = lib.diffTarget(target,PERIOD)[max(PERIOD2-PERIOD,0):]"
   ]
  },
  {
   "cell_type": "code",
   "execution_count": 11,
   "metadata": {},
   "outputs": [
    {
     "data": {
      "text/plain": [
       "4639"
      ]
     },
     "execution_count": 11,
     "metadata": {},
     "output_type": "execute_result"
    }
   ],
   "source": [
    "len(data)"
   ]
  },
  {
   "cell_type": "code",
   "execution_count": 12,
   "metadata": {},
   "outputs": [
    {
     "data": {
      "text/plain": [
       "4639"
      ]
     },
     "execution_count": 12,
     "metadata": {},
     "output_type": "execute_result"
    }
   ],
   "source": [
    "len(target)"
   ]
  },
  {
   "cell_type": "code",
   "execution_count": 13,
   "metadata": {},
   "outputs": [],
   "source": [
    "size = len(target)\n",
    "dayweek = dayweek[max(PERIOD2,PERIOD):]\n",
    "dayhour = dayhour[max(PERIOD2,PERIOD):]"
   ]
  },
  {
   "cell_type": "code",
   "execution_count": 14,
   "metadata": {},
   "outputs": [],
   "source": [
    "data, target = lib.checkDay(data,target,dayweek,dayhour,size)\n",
    "data = np.array(data)"
   ]
  },
  {
   "cell_type": "code",
   "execution_count": 15,
   "metadata": {},
   "outputs": [
    {
     "data": {
      "image/png": "[encoded data removed]",
      "text/plain": [
       "<Figure size 432x288 with 1 Axes>"
      ]
     },
     "metadata": {
      "needs_background": "light"
     },
     "output_type": "display_data"
    }
   ],
   "source": [
    "plt.hist(target, range=(-0.01, 0.01), bins=100);"
   ]
  },
  {
   "cell_type": "code",
   "execution_count": 16,
   "metadata": {},
   "outputs": [],
   "source": [
    "target2 = [lib.highlow(i,PIP) for i in target]\n",
    "target3 = [lib.highlow2(i,PIP) for i in target]\n",
    "target4 = [lib.highlow3(i,PIP) for i in target]"
   ]
  },
  {
   "cell_type": "code",
   "execution_count": 17,
   "metadata": {},
   "outputs": [
    {
     "data": {
      "image/png": "[encoded data removed]",
      "text/plain": [
       "<Figure size 432x288 with 1 Axes>"
      ]
     },
     "metadata": {
      "needs_background": "light"
     },
     "output_type": "display_data"
    }
   ],
   "source": [
    "plt.hist(target2, range=(-1, 1), bins=100);"
   ]
  },
  {
   "cell_type": "code",
   "execution_count": 18,
   "metadata": {},
   "outputs": [
    {
     "data": {
      "image/png": "[encoded data removed]",
      "text/plain": [
       "<Figure size 432x288 with 1 Axes>"
      ]
     },
     "metadata": {
      "needs_background": "light"
     },
     "output_type": "display_data"
    }
   ],
   "source": [
    "plt.hist(target3, range=(-2, 2), bins=100);"
   ]
  },
  {
   "cell_type": "code",
   "execution_count": 19,
   "metadata": {},
   "outputs": [
    {
     "data": {
      "image/png": "[encoded data removed]",
      "text/plain": [
       "<Figure size 432x288 with 1 Axes>"
      ]
     },
     "metadata": {
      "needs_background": "light"
     },
     "output_type": "display_data"
    }
   ],
   "source": [
    "plt.hist(target4, range=(-2, 2), bins=100);"
   ]
  },
  {
   "cell_type": "markdown",
   "metadata": {},
   "source": [
    "# データ成型は終了"
   ]
  },
  {
   "cell_type": "code",
   "execution_count": 20,
   "metadata": {},
   "outputs": [],
   "source": [
    "from sklearn.model_selection import train_test_split\n",
    "from sklearn.neural_network import MLPClassifier\n",
    "from sklearn.metrics import mean_squared_error\n",
    "from sklearn.tree import DecisionTreeClassifier\n",
    "from sklearn.ensemble import RandomForestClassifier, AdaBoostClassifier\n",
    "from sklearn import svm"
   ]
  },
  {
   "cell_type": "code",
   "execution_count": 21,
   "metadata": {},
   "outputs": [],
   "source": [
    "from sklearn.neural_network import MLPRegressor\n",
    "from sklearn import linear_model\n",
    "from sklearn.svm import SVR\n",
    "from sklearn.ensemble import GradientBoostingRegressor\n",
    "from sklearn.ensemble import RandomForestRegressor\n",
    "from sklearn.metrics import mean_squared_error\n",
    "from sklearn.metrics import confusion_matrix"
   ]
  },
  {
   "cell_type": "markdown",
   "metadata": {},
   "source": [
    "## 多層パーセプトロンで予測を行う"
   ]
  },
  {
   "cell_type": "code",
   "execution_count": 22,
   "metadata": {},
   "outputs": [
    {
     "name": "stdout",
     "output_type": "stream",
     "text": [
      "0.5501432664756447\n",
      "[[  2  43  16]\n",
      " [  0 123  77]\n",
      " [  0  21  67]]\n"
     ]
    }
   ],
   "source": [
    "clf = MLPClassifier(hidden_layer_sizes = (128,128), solver = \"sgd\", max_iter = 10000)\n",
    "X_train, X_test, y_train, y_test = train_test_split(data, target2, test_size=0.1, random_state=0,shuffle=False)\n",
    "clf.fit(X_train, y_train)\n",
    "correct = np.array(y_test)\n",
    "predict = clf.predict(X_test)\n",
    "print(clf.score(X_test, y_test))\n",
    "print(confusion_matrix(correct, predict))"
   ]
  },
  {
   "cell_type": "code",
   "execution_count": 23,
   "metadata": {},
   "outputs": [
    {
     "name": "stdout",
     "output_type": "stream",
     "text": [
      "0.4813753581661891\n",
      "[[  0   5  13   0   0]\n",
      " [  0   4  33   5   1]\n",
      " [  0   9 140  24  27]\n",
      " [  0   0  27   4  12]\n",
      " [  0   0  17   8  20]]\n"
     ]
    }
   ],
   "source": [
    "clf = MLPClassifier(hidden_layer_sizes = (128,128), solver = \"sgd\", max_iter = 10000)\n",
    "X_train, X_test, y_train, y_test = train_test_split(data, target3, test_size=0.1, random_state=0,shuffle=False)\n",
    "clf.fit(X_train, y_train)\n",
    "correct = np.array(y_test)\n",
    "predict = clf.predict(X_test)\n",
    "print(clf.score(X_test, y_test))\n",
    "print(confusion_matrix(correct, predict))"
   ]
  },
  {
   "cell_type": "code",
   "execution_count": 24,
   "metadata": {
    "scrolled": false
   },
   "outputs": [
    {
     "name": "stdout",
     "output_type": "stream",
     "text": [
      "0.7933333333333333\n",
      "[[  0  17   1]\n",
      " [  0 228  33]\n",
      " [  0  11  10]]\n"
     ]
    }
   ],
   "source": [
    "clf = MLPClassifier(hidden_layer_sizes = (128,128), solver = \"sgd\", max_iter = 10000)\n",
    "X_train, X_test, y_train, y_test = train_test_split(data, target4, test_size=300, random_state=0,shuffle=False)\n",
    "clf.fit(X_train, y_train)\n",
    "correct = np.array(y_test)\n",
    "predict = clf.predict(X_test)\n",
    "print(clf.score(X_test, y_test))\n",
    "print(confusion_matrix(correct, predict))"
   ]
  },
  {
   "cell_type": "code",
   "execution_count": 25,
   "metadata": {},
   "outputs": [
    {
     "name": "stdout",
     "output_type": "stream",
     "text": [
      "0.0032024925161642996\n",
      "[[ 1.         -0.07215804]\n",
      " [-0.07215804  1.        ]]\n"
     ]
    },
    {
     "data": {
      "text/plain": [
       "<matplotlib.collections.PathCollection at 0x1b681ecbe80>"
      ]
     },
     "execution_count": 25,
     "metadata": {},
     "output_type": "execute_result"
    },
    {
     "data": {
      "image/png": "[encoded data removed]",
      "text/plain": [
       "<Figure size 432x288 with 1 Axes>"
      ]
     },
     "metadata": {
      "needs_background": "light"
     },
     "output_type": "display_data"
    }
   ],
   "source": [
    "clf = MLPRegressor(hidden_layer_sizes = (128,128), solver = \"sgd\", max_iter = 10000)\n",
    "X_train, X_test, y_train, y_test = train_test_split(data, target, test_size=0.1, random_state=0,shuffle=False)\n",
    "clf.fit(X_train, y_train)\n",
    "correct = np.array(y_test)\n",
    "predict = clf.predict(X_test)\n",
    "print(mean_squared_error(predict,correct))\n",
    "print(np.corrcoef(predict, correct))\n",
    "plt.scatter(predict, correct)"
   ]
  },
  {
   "cell_type": "code",
   "execution_count": 26,
   "metadata": {},
   "outputs": [
    {
     "name": "stdout",
     "output_type": "stream",
     "text": [
      "0.0014940286912149805\n",
      "[[1.         0.00227935]\n",
      " [0.00227935 1.        ]]\n"
     ]
    },
    {
     "data": {
      "text/plain": [
       "<matplotlib.collections.PathCollection at 0x1b681f559b0>"
      ]
     },
     "execution_count": 26,
     "metadata": {},
     "output_type": "execute_result"
    },
    {
     "data": {
      "image/png": "[encoded data removed]",
      "text/plain": [
       "<Figure size 432x288 with 1 Axes>"
      ]
     },
     "metadata": {
      "needs_background": "light"
     },
     "output_type": "display_data"
    }
   ],
   "source": [
    "clf = MLPRegressor(hidden_layer_sizes = (128,128), solver = \"sgd\", max_iter = 10000)\n",
    "X_train, X_test, y_train, y_test = train_test_split(data, [i * 10 for i in target], test_size=0.1, random_state=0,shuffle=False)\n",
    "clf.fit(X_train, y_train)\n",
    "correct = np.array(y_test)\n",
    "predict = clf.predict(X_test)\n",
    "print(mean_squared_error(predict,correct))\n",
    "print(np.corrcoef(predict, correct))\n",
    "plt.scatter(predict, correct)"
   ]
  },
  {
   "cell_type": "code",
   "execution_count": 27,
   "metadata": {},
   "outputs": [
    {
     "name": "stdout",
     "output_type": "stream",
     "text": [
      "669579133.6332469\n",
      "[[ 1.         -0.06379929]\n",
      " [-0.06379929  1.        ]]\n"
     ]
    },
    {
     "data": {
      "text/plain": [
       "<matplotlib.collections.PathCollection at 0x1b681fb6240>"
      ]
     },
     "execution_count": 27,
     "metadata": {},
     "output_type": "execute_result"
    },
    {
     "data": {
      "image/png": "[encoded data removed]",
      "text/plain": [
       "<Figure size 432x288 with 1 Axes>"
      ]
     },
     "metadata": {
      "needs_background": "light"
     },
     "output_type": "display_data"
    }
   ],
   "source": [
    "clf = linear_model.LinearRegression()\n",
    "X_train, X_test, y_train, y_test = train_test_split(data, target, test_size=0.1, random_state=0)\n",
    "clf.fit(X_train, y_train)\n",
    "correct = np.array(y_test)\n",
    "predict = clf.predict(X_test)\n",
    "print(mean_squared_error(predict,correct))\n",
    "print(np.corrcoef(predict, correct))\n",
    "plt.scatter(predict, correct)"
   ]
  },
  {
   "cell_type": "markdown",
   "metadata": {},
   "source": [
    "## サポートベクターマシンで予測を行う"
   ]
  },
  {
   "cell_type": "code",
   "execution_count": 28,
   "metadata": {},
   "outputs": [
    {
     "name": "stdout",
     "output_type": "stream",
     "text": [
      "0.5272206303724928\n",
      "[[  2  42  17]\n",
      " [  1 163  36]\n",
      " [  0  69  19]]\n"
     ]
    },
    {
     "name": "stderr",
     "output_type": "stream",
     "text": [
      "C:\\Users\\Takumi Inui\\Anaconda\\lib\\site-packages\\sklearn\\svm\\_base.py:986: ConvergenceWarning: Liblinear failed to converge, increase the number of iterations.\n",
      "  \"the number of iterations.\", ConvergenceWarning)\n"
     ]
    }
   ],
   "source": [
    "clf = svm.LinearSVC(loss='hinge', C=1.0,class_weight='balanced', random_state=0,max_iter=10000)\n",
    "X_train, X_test, y_train, y_test = train_test_split(data, target2, test_size=0.1, random_state=0,shuffle=False)\n",
    "clf.fit(X_train, y_train)\n",
    "correct = np.array(y_test)\n",
    "predict = clf.predict(X_test)\n",
    "print(clf.score(X_test, y_test))\n",
    "print(confusion_matrix(correct, predict))"
   ]
  },
  {
   "cell_type": "code",
   "execution_count": 29,
   "metadata": {},
   "outputs": [
    {
     "name": "stdout",
     "output_type": "stream",
     "text": [
      "0.5128939828080229\n",
      "[[  0   2  15   0   1]\n",
      " [  0   1  32   1   9]\n",
      " [  0   5 173  11  11]\n",
      " [  0   0  37   2   4]\n",
      " [  0   0  40   2   3]]\n"
     ]
    },
    {
     "name": "stderr",
     "output_type": "stream",
     "text": [
      "C:\\Users\\Takumi Inui\\Anaconda\\lib\\site-packages\\sklearn\\svm\\_base.py:986: ConvergenceWarning: Liblinear failed to converge, increase the number of iterations.\n",
      "  \"the number of iterations.\", ConvergenceWarning)\n"
     ]
    }
   ],
   "source": [
    "clf = svm.LinearSVC(loss='hinge', C=1.0,class_weight='balanced', random_state=0,max_iter=10000)\n",
    "X_train, X_test, y_train, y_test = train_test_split(data, target3, test_size=0.1, random_state=0,shuffle=False)\n",
    "clf.fit(X_train, y_train)\n",
    "correct = np.array(y_test)\n",
    "predict = clf.predict(X_test)\n",
    "print(clf.score(X_test, y_test))\n",
    "print(confusion_matrix(correct, predict))"
   ]
  },
  {
   "cell_type": "code",
   "execution_count": 30,
   "metadata": {},
   "outputs": [
    {
     "name": "stdout",
     "output_type": "stream",
     "text": [
      "0.7335243553008596\n",
      "[[  0  18   0]\n",
      " [  0 247  39]\n",
      " [  0  36   9]]\n"
     ]
    },
    {
     "name": "stderr",
     "output_type": "stream",
     "text": [
      "C:\\Users\\Takumi Inui\\Anaconda\\lib\\site-packages\\sklearn\\svm\\_base.py:986: ConvergenceWarning: Liblinear failed to converge, increase the number of iterations.\n",
      "  \"the number of iterations.\", ConvergenceWarning)\n"
     ]
    }
   ],
   "source": [
    "clf = svm.LinearSVC(loss='hinge', C=1.0,class_weight='balanced', random_state=0,max_iter=10000)\n",
    "X_train, X_test, y_train, y_test = train_test_split(data, target4, test_size=0.1, random_state=0,shuffle=False)\n",
    "clf.fit(X_train, y_train)\n",
    "correct = np.array(y_test)\n",
    "predict = clf.predict(X_test)\n",
    "print(clf.score(X_test, y_test))\n",
    "print(confusion_matrix(correct, predict))"
   ]
  },
  {
   "cell_type": "markdown",
   "metadata": {},
   "source": [
    "## ランダムフォレストで予測を行う"
   ]
  },
  {
   "cell_type": "code",
   "execution_count": 31,
   "metadata": {},
   "outputs": [
    {
     "name": "stdout",
     "output_type": "stream",
     "text": [
      "0.5787965616045845\n",
      "[[  2  45  14]\n",
      " [  5 143  52]\n",
      " [  1  30  57]]\n"
     ]
    }
   ],
   "source": [
    "clf = RandomForestClassifier(max_depth=20, n_estimators = 40)\n",
    "X_train, X_test, y_train, y_test = train_test_split(data, target2, test_size=0.1, random_state=0,shuffle=False)\n",
    "clf.fit(X_train, y_train)\n",
    "correct = np.array(y_test)\n",
    "predict = clf.predict(X_test)\n",
    "print(clf.score(X_test, y_test))\n",
    "print(confusion_matrix(correct, predict))"
   ]
  },
  {
   "cell_type": "code",
   "execution_count": 32,
   "metadata": {},
   "outputs": [
    {
     "name": "stdout",
     "output_type": "stream",
     "text": [
      "0.5759312320916905\n",
      "[[  0   1  17   0   0]\n",
      " [  0   1  39   2   1]\n",
      " [  0   0 194   6   0]\n",
      " [  0   0  40   1   2]\n",
      " [  0   1  37   2   5]]\n"
     ]
    }
   ],
   "source": [
    "clf = RandomForestClassifier(max_depth=20, n_estimators = 40)\n",
    "X_train, X_test, y_train, y_test = train_test_split(data, target3, test_size=0.1, random_state=0,shuffle=False)\n",
    "clf.fit(X_train, y_train)\n",
    "correct = np.array(y_test)\n",
    "predict = clf.predict(X_test)\n",
    "print(clf.score(X_test, y_test))\n",
    "print(confusion_matrix(correct, predict))"
   ]
  },
  {
   "cell_type": "code",
   "execution_count": 33,
   "metadata": {},
   "outputs": [
    {
     "name": "stdout",
     "output_type": "stream",
     "text": [
      "0.8194842406876791\n",
      "[[  0  18   0]\n",
      " [  0 286   0]\n",
      " [  0  45   0]]\n"
     ]
    }
   ],
   "source": [
    "clf = RandomForestClassifier(max_depth=20, n_estimators = 40)\n",
    "X_train, X_test, y_train, y_test = train_test_split(data, target4, test_size=0.1, random_state=0,shuffle=False)\n",
    "clf.fit(X_train, y_train)\n",
    "correct = np.array(y_test)\n",
    "predict = clf.predict(X_test)\n",
    "print(clf.score(X_test, y_test))\n",
    "print(confusion_matrix(correct, predict))"
   ]
  },
  {
   "cell_type": "code",
   "execution_count": 34,
   "metadata": {},
   "outputs": [
    {
     "name": "stdout",
     "output_type": "stream",
     "text": [
      "7.288791463669876e-07\n",
      "[[1.         0.87788303]\n",
      " [0.87788303 1.        ]]\n"
     ]
    },
    {
     "data": {
      "text/plain": [
       "<matplotlib.collections.PathCollection at 0x1b681ca5c88>"
      ]
     },
     "execution_count": 34,
     "metadata": {},
     "output_type": "execute_result"
    },
    {
     "data": {
      "image/png": "[encoded data removed]",
      "text/plain": [
       "<Figure size 432x288 with 1 Axes>"
      ]
     },
     "metadata": {
      "needs_background": "light"
     },
     "output_type": "display_data"
    }
   ],
   "source": [
    "clf = RandomForestRegressor(n_estimators=9, max_depth=9, random_state=1)\n",
    "X_train, X_test, y_train, y_test = train_test_split(data, target, test_size=0.1, random_state=0)\n",
    "clf.fit(X_train, y_train)\n",
    "correct = np.array(y_test)\n",
    "predict = clf.predict(X_test)\n",
    "print(mean_squared_error(predict,correct))\n",
    "print(np.corrcoef(predict, correct))\n",
    "plt.scatter(predict, correct)"
   ]
  },
  {
   "cell_type": "code",
   "execution_count": 35,
   "metadata": {},
   "outputs": [
    {
     "name": "stdout",
     "output_type": "stream",
     "text": [
      "7.271786726585111e-05\n",
      "[[1.        0.8746474]\n",
      " [0.8746474 1.       ]]\n"
     ]
    },
    {
     "data": {
      "text/plain": [
       "<matplotlib.collections.PathCollection at 0x1b681d222e8>"
      ]
     },
     "execution_count": 35,
     "metadata": {},
     "output_type": "execute_result"
    },
    {
     "data": {
      "image/png": "[encoded data removed]",
      "text/plain": [
       "<Figure size 432x288 with 1 Axes>"
      ]
     },
     "metadata": {
      "needs_background": "light"
     },
     "output_type": "display_data"
    }
   ],
   "source": [
    "clf = RandomForestRegressor(n_estimators=9, max_depth=9, random_state=1)\n",
    "X_train, X_test, y_train, y_test = train_test_split(data, [i * 10 for i in target], test_size=0.1, random_state=0)\n",
    "clf.fit(X_train, y_train)\n",
    "correct = np.array(y_test)\n",
    "predict = clf.predict(X_test)\n",
    "print(mean_squared_error(predict,correct))\n",
    "print(np.corrcoef(predict, correct))\n",
    "plt.scatter(predict, correct)"
   ]
  },
  {
   "cell_type": "markdown",
   "metadata": {},
   "source": [
    "## Adaboostで予測を行う"
   ]
  },
  {
   "cell_type": "code",
   "execution_count": 36,
   "metadata": {},
   "outputs": [
    {
     "name": "stdout",
     "output_type": "stream",
     "text": [
      "0.5673352435530086\n",
      "[[  9  24  28]\n",
      " [  6 110  84]\n",
      " [  0   9  79]]\n"
     ]
    }
   ],
   "source": [
    "clf = AdaBoostClassifier()\n",
    "X_train, X_test, y_train, y_test = train_test_split(data, target2, test_size=0.1, random_state=0,shuffle=False)\n",
    "clf.fit(X_train, y_train)\n",
    "correct = np.array(y_test)\n",
    "predict = clf.predict(X_test)\n",
    "print(clf.score(X_test, y_test))\n",
    "print(confusion_matrix(correct, predict))"
   ]
  },
  {
   "cell_type": "code",
   "execution_count": 37,
   "metadata": {},
   "outputs": [
    {
     "name": "stdout",
     "output_type": "stream",
     "text": [
      "0.5730659025787965\n",
      "[[  7   2   8   1   0]\n",
      " [ 13   0  25   5   0]\n",
      " [  2  12 159  23   4]\n",
      " [  1   0  26  12   4]\n",
      " [  0   0  13  10  22]]\n"
     ]
    }
   ],
   "source": [
    "clf = AdaBoostClassifier()\n",
    "X_train, X_test, y_train, y_test = train_test_split(data, target3, test_size=0.1, random_state=0,shuffle=False)\n",
    "clf.fit(X_train, y_train)\n",
    "correct = np.array(y_test)\n",
    "predict = clf.predict(X_test)\n",
    "print(clf.score(X_test, y_test))\n",
    "print(confusion_matrix(correct, predict))"
   ]
  },
  {
   "cell_type": "code",
   "execution_count": 38,
   "metadata": {},
   "outputs": [
    {
     "name": "stdout",
     "output_type": "stream",
     "text": [
      "0.7908309455587392\n",
      "[[  0  18   0]\n",
      " [  1 243  42]\n",
      " [  0  12  33]]\n"
     ]
    }
   ],
   "source": [
    "clf = AdaBoostClassifier()\n",
    "X_train, X_test, y_train, y_test = train_test_split(data, target4, test_size=0.1, random_state=0,shuffle=False)\n",
    "clf.fit(X_train, y_train)\n",
    "correct = np.array(y_test)\n",
    "predict = clf.predict(X_test)\n",
    "print(clf.score(X_test, y_test))\n",
    "print(confusion_matrix(correct, predict))"
   ]
  },
  {
   "cell_type": "code",
   "execution_count": 39,
   "metadata": {},
   "outputs": [
    {
     "name": "stdout",
     "output_type": "stream",
     "text": [
      "3.4472960073686246e-05\n",
      "[[1.         0.94565346]\n",
      " [0.94565346 1.        ]]\n"
     ]
    },
    {
     "data": {
      "text/plain": [
       "<matplotlib.collections.PathCollection at 0x1b681cd3dd8>"
      ]
     },
     "execution_count": 39,
     "metadata": {},
     "output_type": "execute_result"
    },
    {
     "data": {
      "image/png": "[encoded data removed]",
      "text/plain": [
       "<Figure size 432x288 with 1 Axes>"
      ]
     },
     "metadata": {
      "needs_background": "light"
     },
     "output_type": "display_data"
    }
   ],
   "source": [
    "clf = GradientBoostingRegressor(random_state=1, n_estimators=100, max_depth=5)\n",
    "X_train, X_test, y_train, y_test = train_test_split(data, [i * 10 for i in target], test_size=0.1, random_state=0)\n",
    "clf.fit(X_train, y_train)\n",
    "correct = np.array(y_test)\n",
    "predict = clf.predict(X_test)\n",
    "print(mean_squared_error(predict,correct))\n",
    "print(np.corrcoef(predict, correct))\n",
    "plt.scatter(predict, correct)"
   ]
  },
  {
   "cell_type": "code",
   "execution_count": null,
   "metadata": {},
   "outputs": [],
   "source": []
  }
 ],
 "metadata": {
  "kernelspec": {
   "display_name": "Python 3",
   "language": "python",
   "name": "python3"
  },
  "language_info": {
   "codemirror_mode": {
    "name": "ipython",
    "version": 3
   },
   "file_extension": ".py",
   "mimetype": "text/x-python",
   "name": "python",
   "nbconvert_exporter": "python",
   "pygments_lexer": "ipython3",
   "version": "3.7.3"
  }
 },
 "nbformat": 4,
 "nbformat_minor": 2
}
