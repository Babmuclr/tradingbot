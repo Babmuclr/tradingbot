{
 "cells": [
  {
   "cell_type": "code",
   "execution_count": 1,
   "metadata": {},
   "outputs": [],
   "source": [
    "import numpy as np\n",
    "import pandas as pd"
   ]
  },
  {
   "cell_type": "code",
   "execution_count": 2,
   "metadata": {},
   "outputs": [],
   "source": [
    "import time\n",
    "import datetime"
   ]
  },
  {
   "cell_type": "code",
   "execution_count": 3,
   "metadata": {},
   "outputs": [],
   "source": [
    "import sys"
   ]
  },
  {
   "cell_type": "code",
   "execution_count": 4,
   "metadata": {},
   "outputs": [],
   "source": [
    "sys.path.append('../')\n",
    "\n",
    "from lib import lib"
   ]
  },
  {
   "cell_type": "code",
   "execution_count": 5,
   "metadata": {},
   "outputs": [],
   "source": [
    "li_currency = [\"USDJPY\",\"EURJPY\",\"EURUSD\",\"GBDJPY\",\"CADJPY\",\"CHFJPY\",\"GBDUSD\",\"USDCHF\",\"SEKJPY\",\"NOKJPY\",\n",
    "\"EURGBP\",\"USDCAD\",\"TRYJPY\",\"ZARJPY\",\"MXNJPY\",\"TRYUSD\",\"EURTRY\",\"RUBJPY\",\"AUDJPY\",\"NZDJPY\",\n",
    "\"AUDUSD\",\"NZDUSD\",\"EURAUD\",\"GBPAUD\",\"AUDCAD\",\"EURNZD\",\"AUDNZD\",\"CNYJPY\",\"HKDJPY\",\"SGDJPY\"]"
   ]
  },
  {
   "cell_type": "code",
   "execution_count": 22,
   "metadata": {},
   "outputs": [],
   "source": [
    "li_tweet = [\"USDJPY\",\"EURUSD\",\"GBPUSD\",\"AUDUSD\"]"
   ]
  },
  {
   "cell_type": "code",
   "execution_count": 8,
   "metadata": {},
   "outputs": [],
   "source": [
    "li_time = [3,6,12,24]"
   ]
  },
  {
   "cell_type": "code",
   "execution_count": 9,
   "metadata": {},
   "outputs": [
    {
     "data": {
      "text/plain": [
       "[2021, 4, 22, 13, 30, 0]"
      ]
     },
     "execution_count": 9,
     "metadata": {},
     "output_type": "execute_result"
    }
   ],
   "source": [
    "tm = datetime.datetime.now()\n",
    "tm = tm - datetime.timedelta(minutes=tm.minute % 10,seconds=tm.second,microseconds=tm.microsecond)\n",
    "tm =tm.strftime('%Y-%m-%d-%H-%M-%S')\n",
    "li_tm = list(map(int,tm.split(\"-\")))\n",
    "li_tm"
   ]
  },
  {
   "cell_type": "code",
   "execution_count": 10,
   "metadata": {},
   "outputs": [
    {
     "data": {
      "text/plain": [
       "True"
      ]
     },
     "execution_count": 10,
     "metadata": {},
     "output_type": "execute_result"
    }
   ],
   "source": [
    "date = datetime.date(li_tm[0],li_tm[1],li_tm[2])\n",
    "dayweek = date.strftime('%A')\n",
    "boolDay = False\n",
    "if dayweek == \"Sunday\":\n",
    "    boolDay = False\n",
    "elif dayweek == \"Saturday\" and tm[3] > 6:\n",
    "    boolDay = False\n",
    "elif dayweek == \"Monday\" and tm[3] < 6:\n",
    "    boolDay = False\n",
    "else:\n",
    "    boolDay = True\n",
    "boolDay"
   ]
  },
  {
   "cell_type": "code",
   "execution_count": 11,
   "metadata": {},
   "outputs": [],
   "source": [
    "PERIOD2 = 6 # 変化の間隔"
   ]
  },
  {
   "cell_type": "code",
   "execution_count": 13,
   "metadata": {},
   "outputs": [],
   "source": [
    "import pickle"
   ]
  },
  {
   "cell_type": "code",
   "execution_count": 23,
   "metadata": {},
   "outputs": [
    {
     "name": "stdout",
     "output_type": "stream",
     "text": [
      "[array([2, 2, 1, ..., 0, 0, 0], dtype=int64)]\n",
      "USDJPY 3 0.0035508567630733417\n",
      "EURUSD 3 0.00014920989883258727\n",
      "GBPUSD 3 5.746959462668173e-06\n",
      "AUDUSD 3 0.00010150964383915761\n",
      "[array([2, 2, 1, ..., 0, 0, 0], dtype=int64)]\n",
      "USDJPY 6 0.0009748497902709337\n",
      "EURUSD 6 0.00010477299047667048\n",
      "GBPUSD 6 0.00010832412235670202\n",
      "AUDUSD 6 5.906895768490624e-05\n",
      "[array([2, 2, 1, ..., 0, 0, 0], dtype=int64)]\n",
      "USDJPY 12 -0.005965110738848972\n",
      "EURUSD 12 0.0008155177466765158\n",
      "GBPUSD 12 0.0005426180710734535\n",
      "AUDUSD 12 0.00012720676137814994\n",
      "[array([2, 2, 1, ..., 0, 0, 0], dtype=int64)]\n",
      "USDJPY 24 -0.08479766800289883\n",
      "EURUSD 24 0.0006612706018393819\n",
      "GBPUSD 24 0.0009325735792036783\n",
      "AUDUSD 24 0.00018669704959981876\n"
     ]
    }
   ],
   "source": [
    "for PERIOD in li_time:\n",
    "    data = lib.makeData(li_currency).values\n",
    "    diffs = lib.diffData(data,PERIOD2)\n",
    "    data = data[PERIOD2:]\n",
    "    data = np.concatenate([data,diffs],1)[max(PERIOD-PERIOD2,0):]\n",
    "    data = [data[-1]]\n",
    "    print(data)\n",
    "    for i in li_tweet:\n",
    "        filename = \"../models/model/\" + i + \"/r\" + str(PERIOD) + \"_0.sav\"\n",
    "        model = pickle.load(open(filename, 'rb'))\n",
    "        result = model.predict(data)\n",
    "        print(i, PERIOD, result[0])"
   ]
  },
  {
   "cell_type": "code",
   "execution_count": 23,
   "metadata": {},
   "outputs": [],
   "source": [
    "ans1 = 0 # 0,1,-1\n",
    "ans2 = 0 # 0,2,-2\n",
    "ans3 = 0 # 0,1,-1\n",
    "ans4 = 0 # 0,2,-2\n",
    "ans5 = 0 # 0,1,-1, 2,-2\n",
    "ansli = [ans1,ans2,ans3,ans4,ans5]"
   ]
  },
  {
   "cell_type": "code",
   "execution_count": 24,
   "metadata": {},
   "outputs": [],
   "source": [
    "def textModel(x):\n",
    "    if x == 0:\n",
    "        return \"変化なし\"\n",
    "    elif x == 1:\n",
    "        return \"弱い買い\"\n",
    "    elif x == 2:\n",
    "        return \"強い買い\"\n",
    "    elif x == -1:\n",
    "        return \"弱い売り\"\n",
    "    elif x == -1:\n",
    "        return \"強い売り\"\n",
    "textli = list(map(textModel,ansli))"
   ]
  },
  {
   "cell_type": "code",
   "execution_count": 29,
   "metadata": {},
   "outputs": [],
   "source": [
    "timeli = [\" 30分後\",\"1時間後\",\"2時間後\",\"4時間後\",\"8時間後\"]"
   ]
  },
  {
   "cell_type": "code",
   "execution_count": 33,
   "metadata": {},
   "outputs": [],
   "source": [
    "import twitter"
   ]
  },
  {
   "cell_type": "code",
   "execution_count": null,
   "metadata": {},
   "outputs": [],
   "source": [
    "with open( \"./twitterpass.txt\" ,\"a\",newline=\"\") as f:\n",
    "    li = f.read().splitlines()\n",
    "    myConsumerKey = li[0]\n",
    "    myConsumerSecret = li[1]\n",
    "    myToken = li[2]\n",
    "    myTokenSecret = li[3]"
   ]
  },
  {
   "cell_type": "code",
   "execution_count": null,
   "metadata": {},
   "outputs": [],
   "source": [
    "auth = twitter.OAuth(\n",
    "    consumer_key=myConsumerKey,\n",
    "    consumer_secret=myConsumerSecret,\n",
    "    token=myToken,\n",
    "    token_secret=myTokenSecret)"
   ]
  },
  {
   "cell_type": "code",
   "execution_count": 37,
   "metadata": {},
   "outputs": [],
   "source": [
    "t = twitter.Twitter(auth=auth)"
   ]
  },
  {
   "cell_type": "code",
   "execution_count": 41,
   "metadata": {},
   "outputs": [],
   "source": [
    "def makeText(c, t, x):\n",
    "    txt = c + \"の価格予測\\n\"\n",
    "    for i in range(5):\n",
    "        txt += t[i] + \"   \" + x[i] + \"\\n\"\n",
    "    return txt"
   ]
  },
  {
   "cell_type": "code",
   "execution_count": null,
   "metadata": {},
   "outputs": [],
   "source": [
    "status=makeText(\"USD/JPY\",timeli,textli) #投稿するツイート\n",
    "t.statuses.update(status=status) #Twitterに投稿"
   ]
  }
 ],
 "metadata": {
  "kernelspec": {
   "display_name": "'Python Interactive'",
   "language": "python",
   "name": "6e3d0710-4027-4042-a392-ad33a6e7b365"
  },
  "language_info": {
   "codemirror_mode": {
    "name": "ipython",
    "version": 3
   },
   "file_extension": ".py",
   "mimetype": "text/x-python",
   "name": "python",
   "nbconvert_exporter": "python",
   "pygments_lexer": "ipython3",
   "version": "3.7.3"
  }
 },
 "nbformat": 4,
 "nbformat_minor": 2
}
