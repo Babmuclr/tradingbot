{
 "cells": [
  {
   "cell_type": "code",
   "execution_count": 1,
   "metadata": {},
   "outputs": [],
   "source": [
    "import numpy as np\n",
    "import pandas as pd\n",
    "import time"
   ]
  },
  {
   "cell_type": "code",
   "execution_count": 3,
   "metadata": {},
   "outputs": [],
   "source": [
    "from selenium import webdriver\n",
    "from selenium.webdriver.chrome.options import Options\n",
    "from selenium.webdriver.support.select import Select\n",
    "from selenium.webdriver.common.by import By\n",
    "from selenium.webdriver.common.keys import Keys\n",
    "from selenium.webdriver.common.alert import Alert\n",
    "from selenium.webdriver.support.ui import WebDriverWait\n",
    "from selenium.webdriver.support import expected_conditions as EC\n",
    "from selenium.common.exceptions import TimeoutException"
   ]
  },
  {
   "cell_type": "code",
   "execution_count": 4,
   "metadata": {},
   "outputs": [],
   "source": [
    "from urllib.request import urlopen\n",
    "from bs4 import BeautifulSoup"
   ]
  },
  {
   "cell_type": "code",
   "execution_count": 5,
   "metadata": {},
   "outputs": [],
   "source": [
    "# Seleniumをあらゆる環境で起動させるChromeオプション\n",
    "options = Options()\n",
    "options.add_argument('--disable-gpu');\n",
    "options.add_argument('--disable-extensions');\n",
    "options.add_argument('--proxy-server=\"direct://\"');\n",
    "options.add_argument('--proxy-bypass-list=*');\n",
    "options.add_argument('--start-maximized');\n",
    "# options.add_argument('--headless'); # ※ヘッドレスモードを使用する場合、コメントアウトを外す"
   ]
  },
  {
   "cell_type": "code",
   "execution_count": 6,
   "metadata": {
    "scrolled": true
   },
   "outputs": [
    {
     "name": "stderr",
     "output_type": "stream",
     "text": [
      "C:\\Users\\Takumi Inui\\Anaconda\\lib\\site-packages\\ipykernel_launcher.py:6: DeprecationWarning: use options instead of chrome_options\n",
      "  \n"
     ]
    }
   ],
   "source": [
    "DRIVER_PATH = '../chromedriver'\n",
    "# DRIVER_PATH = '/Users/Kenta/Desktop/Selenium/chromedriver' # ローカル\n",
    "# DRIVER_PATH = '/app/.chromedriver/bin/chromedriver'        # heroku\n",
    "\n",
    "# ブラウザの起動\n",
    "driver = webdriver.Chrome(executable_path=DRIVER_PATH, chrome_options=options)"
   ]
  },
  {
   "cell_type": "code",
   "execution_count": 7,
   "metadata": {},
   "outputs": [],
   "source": [
    "# Selenium 経由でブラウザを操作する\n",
    "url = 'https://widget.oanda.jp/order-book'\n",
    "driver.get(url)"
   ]
  },
  {
   "cell_type": "code",
   "execution_count": 8,
   "metadata": {
    "scrolled": true
   },
   "outputs": [
    {
     "name": "stdout",
     "output_type": "stream",
     "text": [
      "2021-04-16 22:20:00\n"
     ]
    }
   ],
   "source": [
    "import datetime \n",
    "tm = datetime.datetime.now()\n",
    "tm = tm - datetime.timedelta(minutes=tm.minute % 10,seconds=tm.second,microseconds=tm.microsecond)\n",
    "print(tm)"
   ]
  },
  {
   "cell_type": "code",
   "execution_count": 9,
   "metadata": {},
   "outputs": [],
   "source": [
    "li_currency = [\"USD / JPY\",\"USD / JPY\",\"XAG / USD\",\"XAU / USD\",\"EUR / USD\",\"EUR / JPY\",\"GBP / JPY\",\"AUD / JPY\",\n",
    "              \"GBP / USD\",\"AUD / USD\",\"EUR / AUD\",\"EUR / CHF\",\"EUR / GBP\",\"GBP / CHF\",\"NZD / USD\",\"USD / CAD\",\"USD / CHF\"]"
   ]
  },
  {
   "cell_type": "code",
   "execution_count": 10,
   "metadata": {},
   "outputs": [],
   "source": [
    "def getSource(c1, c2):\n",
    "    element = driver.find_element_by_link_text(c1)\n",
    "    #画像のリンクをクリック\n",
    "    element.click()\n",
    "    time.sleep(1)\n",
    "    element = driver.find_element_by_link_text(c2)\n",
    "    #画像のリンクをクリック\n",
    "    element.click()\n",
    "    source = driver.page_source\n",
    "    soup = BeautifulSoup(source, \"html.parser\") \n",
    "    x = soup.find_all(\"rect\", class_=\"highcharts-point\")\n",
    "    li = []\n",
    "    for i in x:\n",
    "        li.append(int(i.get(\"height\")))\n",
    "    liFill = []\n",
    "    for i in x:\n",
    "        liFill.append(i.get(\"fill\"))\n",
    "    return li, liFill"
   ]
  },
  {
   "cell_type": "code",
   "execution_count": 11,
   "metadata": {},
   "outputs": [],
   "source": [
    "li = []\n",
    "liFill = []\n",
    "for i in range(len(li_currency)-1):\n",
    "    a, b = getSource(li_currency[i],li_currency[i+1])\n",
    "    li.append(a)\n",
    "    liFill.append(b)\n",
    "    time.sleep(5)"
   ]
  },
  {
   "cell_type": "code",
   "execution_count": 24,
   "metadata": {},
   "outputs": [],
   "source": [
    "def makeNewlist(x):\n",
    "    newList = [0,0,0,0,0,0,0,0]\n",
    "    newList[0] = x[0]\n",
    "    newList[7] = x[4]\n",
    "    newList[2] = x[0]\n",
    "    newList[5] = x[4]\n",
    "    newList[1] = x[1] - x[0]\n",
    "    newList[6] = x[3] - x[4]\n",
    "    newList[3] = newList[1]\n",
    "    newList[4] = newList[6]\n",
    "    return newList"
   ]
  },
  {
   "cell_type": "code",
   "execution_count": 26,
   "metadata": {},
   "outputs": [
    {
     "data": {
      "text/plain": [
       "[[35, 35, 35, 35, 35, 35, 35, 35],\n",
       " [35, 35, 35, 35, 35, 35, 35, 35],\n",
       " [201, 181, 201, 181, 319, 162, 319, 162],\n",
       " [59, 57, 59, 57, 63, 43, 63, 43],\n",
       " [46, 47, 46, 47, 46, 47, 46, 47],\n",
       " [47, 46, 47, 46, 47, 25, 47, 25],\n",
       " [79, 80, 79, 80, 77, 70, 77, 70],\n",
       " [37, 37, 37, 37, 37, 36, 37, 36],\n",
       " [60, 60, 60, 60, 60, 59, 60, 59],\n",
       " [38, 38, 38, 38, 38, 38, 38, 38],\n",
       " [51, 52, 51, 52, 43, 51, 43, 51],\n",
       " [42, 42, 42, 42, 39, 36, 39, 36],\n",
       " [23, 23, 23, 23, 23, 23, 23, 23],\n",
       " [85, 85, 85, 85, 67, 78, 67, 78],\n",
       " [20, 20, 20, 20, 20, 20, 20, 20],\n",
       " [43, 42, 43, 42, 36, 42, 36, 42]]"
      ]
     },
     "execution_count": 26,
     "metadata": {},
     "output_type": "execute_result"
    }
   ],
   "source": [
    "spaceLi = []\n",
    "for i in range(len(liFill)):\n",
    "    numli = [1,0,0,0,0]\n",
    "    num = 0\n",
    "    for j in range(len(liFill[i])-1):\n",
    "        if liFill[i][j] == liFill[i][j+1]:\n",
    "            numli[num] += 1\n",
    "        else:\n",
    "            num += 1\n",
    "            numli[num] += 1\n",
    "    spaceLi.append(numli)\n",
    "list(map(makeNewlist,spaceLi))"
   ]
  },
  {
   "cell_type": "code",
   "execution_count": 27,
   "metadata": {},
   "outputs": [
    {
     "data": {
      "text/plain": [
       "[[35, 70, 70, 70, 35],\n",
       " [35, 70, 70, 70, 35],\n",
       " [201, 382, 500, 481, 162],\n",
       " [59, 116, 120, 106, 43],\n",
       " [46, 93, 93, 93, 47],\n",
       " [47, 93, 93, 72, 25],\n",
       " [79, 159, 157, 147, 70],\n",
       " [37, 74, 74, 73, 36],\n",
       " [60, 120, 120, 119, 59],\n",
       " [38, 76, 76, 76, 38],\n",
       " [51, 103, 95, 94, 51],\n",
       " [42, 84, 81, 75, 36],\n",
       " [23, 46, 46, 46, 23],\n",
       " [85, 170, 152, 145, 78],\n",
       " [20, 40, 40, 40, 20],\n",
       " [43, 85, 78, 78, 42]]"
      ]
     },
     "execution_count": 27,
     "metadata": {},
     "output_type": "execute_result"
    }
   ],
   "source": []
  },
  {
   "cell_type": "code",
   "execution_count": 14,
   "metadata": {},
   "outputs": [],
   "source": [
    "# ブラウザを終了する\n",
    "driver.quit()"
   ]
  },
  {
   "cell_type": "code",
   "execution_count": null,
   "metadata": {},
   "outputs": [],
   "source": []
  }
 ],
 "metadata": {
  "kernelspec": {
   "display_name": "'Python Interactive'",
   "language": "python",
   "name": "6e3d0710-4027-4042-a392-ad33a6e7b365"
  },
  "language_info": {
   "codemirror_mode": {
    "name": "ipython",
    "version": 3
   },
   "file_extension": ".py",
   "mimetype": "text/x-python",
   "name": "python",
   "nbconvert_exporter": "python",
   "pygments_lexer": "ipython3",
   "version": "3.7.3"
  }
 },
 "nbformat": 4,
 "nbformat_minor": 2
}
